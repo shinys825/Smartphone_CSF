{
 "cells": [
  {
   "cell_type": "code",
   "execution_count": 1,
   "metadata": {
    "scrolled": true
   },
   "outputs": [
    {
     "name": "stderr",
     "output_type": "stream",
     "text": [
      "D:\\Anaconda3\\lib\\site-packages\\gensim\\utils.py:855: UserWarning: detected Windows; aliasing chunkize to chunkize_serial\n",
      "  warnings.warn(\"detected Windows; aliasing chunkize to chunkize_serial\")\n"
     ]
    }
   ],
   "source": [
    "from gensim.models.word2vec import LineSentence\n",
    "from gensim.models.word2vec import Word2Vec\n",
    "\n",
    "data = pd.read_csv('./dataframes/pcsf_fullframe.csv', sep='\\t', encoding='cp949')\n",
    "sentence = list(data['V1'])"
   ]
  },
  {
   "cell_type": "code",
   "execution_count": 2,
   "metadata": {
    "collapsed": true
   },
   "outputs": [],
   "source": [
    "sen_lst = []\n",
    "\n",
    "for i in range(0, len(sentence)):\n",
    "    if type(sentence[i]) == float:\n",
    "        sentence[i] = \"nan\"\n",
    "        sen_list.append(list('nan'))\n",
    "        \n",
    "    else:\n",
    "        sen_lst.append(sentence[i].split(' '))"
   ]
  },
  {
   "cell_type": "code",
   "execution_count": 3,
   "metadata": {
    "scrolled": true
   },
   "outputs": [
    {
     "data": {
      "text/plain": [
       "[['어제', '산', '갤럭시', 's7', '배터리', '준수', '냐'],\n",
       " ['스마트폰',\n",
       "  '전문가',\n",
       "  '나와',\n",
       "  '이기',\n",
       "  '산',\n",
       "  's6',\n",
       "  '요금',\n",
       "  '요금',\n",
       "  '데이타',\n",
       "  '안심',\n",
       "  '짜리',\n",
       "  '쓰고있음s7',\n",
       "  '로',\n",
       "  '바꾸',\n",
       "  '싶',\n",
       "  '요금',\n",
       "  '29요금제',\n",
       "  '데이터',\n",
       "  '안심5천원',\n",
       "  '으',\n",
       "  '쓰',\n",
       "  '위약금',\n",
       "  '할부',\n",
       "  '추가비용',\n",
       "  '그런거',\n",
       "  '얼마정도',\n",
       "  '옴'],\n",
       " ['s7', '미개봉', 'vs', '노트5', '중고']]"
      ]
     },
     "execution_count": 3,
     "metadata": {},
     "output_type": "execute_result"
    }
   ],
   "source": [
    "sen_lst[0:3]"
   ]
  },
  {
   "cell_type": "code",
   "execution_count": 9,
   "metadata": {
    "scrolled": true
   },
   "outputs": [],
   "source": [
    "model = Word2Vec(sen_lst, window=2, min_count=5)"
   ]
  },
  {
   "cell_type": "code",
   "execution_count": 10,
   "metadata": {
    "collapsed": true
   },
   "outputs": [],
   "source": [
    "model.init_sims(replace=True)"
   ]
  },
  {
   "cell_type": "code",
   "execution_count": 12,
   "metadata": {},
   "outputs": [
    {
     "data": {
      "text/plain": [
       "[('베시', 0.8187435865402222),\n",
       " ('너무', 0.8101695775985718),\n",
       " ('무난', 0.800240159034729),\n",
       " ('매우', 0.7986984252929688),\n",
       " ('편이', 0.7939852476119995),\n",
       " ('좋아서', 0.7928072810173035),\n",
       " ('좋은거', 0.7913864850997925),\n",
       " ('편하', 0.7893731594085693),\n",
       " ('베티', 0.7868415117263794),\n",
       " ('난', 0.7844133377075195)]"
      ]
     },
     "execution_count": 12,
     "metadata": {},
     "output_type": "execute_result"
    }
   ],
   "source": [
    "model.most_similar(\"만족\")"
   ]
  },
  {
   "cell_type": "code",
   "execution_count": null,
   "metadata": {
    "collapsed": true
   },
   "outputs": [],
   "source": []
  }
 ],
 "metadata": {
  "kernelspec": {
   "display_name": "Python [conda root]",
   "language": "python",
   "name": "conda-root-py"
  },
  "language_info": {
   "codemirror_mode": {
    "name": "ipython",
    "version": 3
   },
   "file_extension": ".py",
   "mimetype": "text/x-python",
   "name": "python",
   "nbconvert_exporter": "python",
   "pygments_lexer": "ipython3",
   "version": "3.5.2"
  }
 },
 "nbformat": 4,
 "nbformat_minor": 2
}
