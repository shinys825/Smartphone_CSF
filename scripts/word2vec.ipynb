{
 "cells": [
  {
   "cell_type": "code",
   "execution_count": 1,
   "metadata": {
    "scrolled": true
   },
   "outputs": [
    {
     "name": "stderr",
     "output_type": "stream",
     "text": [
      "C:\\Users\\one\\Anaconda3\\lib\\site-packages\\gensim\\utils.py:855: UserWarning: detected Windows; aliasing chunkize to chunkize_serial\n",
      "  warnings.warn(\"detected Windows; aliasing chunkize to chunkize_serial\")\n"
     ]
    }
   ],
   "source": [
    "import os\n",
    "import re\n",
    "import pandas as pd\n",
    "import numpy as np\n",
    "from gensim.models.word2vec import LineSentence\n",
    "from gensim.models.word2vec import Word2Vec\n",
    "\n",
    "work_dir = 'D:/Document/project/Smartphone_CSF'\n",
    "os.chdir(work_dir)"
   ]
  },
  {
   "cell_type": "code",
   "execution_count": 2,
   "metadata": {
    "scrolled": false
   },
   "outputs": [
    {
     "data": {
      "text/html": [
       "<div>\n",
       "<table border=\"1\" class=\"dataframe\">\n",
       "  <thead>\n",
       "    <tr style=\"text-align: right;\">\n",
       "      <th></th>\n",
       "      <th>id</th>\n",
       "      <th>date</th>\n",
       "      <th>contents</th>\n",
       "      <th>product</th>\n",
       "      <th>ref</th>\n",
       "    </tr>\n",
       "  </thead>\n",
       "  <tbody>\n",
       "    <tr>\n",
       "      <th>36058</th>\n",
       "      <td>http://www.ilbe.com/index.php?mid=smartphone&amp;s...</td>\n",
       "      <td>160731</td>\n",
       "      <td>g3 에 s7엣지 갈아타 기기3년약정햇는데 약정 39만원뜸 씨1발이제 2년다써가는데...</td>\n",
       "      <td>s7</td>\n",
       "      <td>ilbe</td>\n",
       "    </tr>\n",
       "    <tr>\n",
       "      <th>36059</th>\n",
       "      <td>http://www.ilbe.com/index.php?mid=smartphone&amp;s...</td>\n",
       "      <td>160731</td>\n",
       "      <td>갓럭시s7 카메라 경쟁 실제 카메라 보여 일단 이정 갤럭시s7  가볍다  바르 런 ...</td>\n",
       "      <td>s7</td>\n",
       "      <td>ilbe</td>\n",
       "    </tr>\n",
       "    <tr>\n",
       "      <th>36060</th>\n",
       "      <td>http://www.ilbe.com/index.php?mid=smartphone&amp;s...</td>\n",
       "      <td>160731</td>\n",
       "      <td>s7 미개봉 vs 노트5 중고 굴 끄</td>\n",
       "      <td>s7</td>\n",
       "      <td>ilbe</td>\n",
       "    </tr>\n",
       "    <tr>\n",
       "      <th>36061</th>\n",
       "      <td>http://www.ilbe.com/index.php?mid=smartphone&amp;s...</td>\n",
       "      <td>160731</td>\n",
       "      <td>스마트폰 바꾸 전문가 나와 이기 산 s6 에 요금 요금 데이타 안심 짜리 쓰고있음s...</td>\n",
       "      <td>s7</td>\n",
       "      <td>ilbe</td>\n",
       "    </tr>\n",
       "    <tr>\n",
       "      <th>36062</th>\n",
       "      <td>http://www.ilbe.com/index.php?mid=smartphone&amp;s...</td>\n",
       "      <td>160731</td>\n",
       "      <td>어제 산 갤럭시 s7 에 배터리 준수 냐</td>\n",
       "      <td>s7</td>\n",
       "      <td>ilbe</td>\n",
       "    </tr>\n",
       "  </tbody>\n",
       "</table>\n",
       "</div>"
      ],
      "text/plain": [
       "                                                      id    date  \\\n",
       "36058  http://www.ilbe.com/index.php?mid=smartphone&s...  160731   \n",
       "36059  http://www.ilbe.com/index.php?mid=smartphone&s...  160731   \n",
       "36060  http://www.ilbe.com/index.php?mid=smartphone&s...  160731   \n",
       "36061  http://www.ilbe.com/index.php?mid=smartphone&s...  160731   \n",
       "36062  http://www.ilbe.com/index.php?mid=smartphone&s...  160731   \n",
       "\n",
       "                                                contents product   ref  \n",
       "36058  g3 에 s7엣지 갈아타 기기3년약정햇는데 약정 39만원뜸 씨1발이제 2년다써가는데...      s7  ilbe  \n",
       "36059  갓럭시s7 카메라 경쟁 실제 카메라 보여 일단 이정 갤럭시s7  가볍다  바르 런 ...      s7  ilbe  \n",
       "36060                               s7 미개봉 vs 노트5 중고 굴 끄      s7  ilbe  \n",
       "36061  스마트폰 바꾸 전문가 나와 이기 산 s6 에 요금 요금 데이타 안심 짜리 쓰고있음s...      s7  ilbe  \n",
       "36062                             어제 산 갤럭시 s7 에 배터리 준수 냐      s7  ilbe  "
      ]
     },
     "execution_count": 2,
     "metadata": {},
     "output_type": "execute_result"
    }
   ],
   "source": [
    "data = pd.read_csv('dataframes/phone_fullframe(af_paraph).csv', sep='\\t', encoding='cp949')\n",
    "data.tail()"
   ]
  },
  {
   "cell_type": "code",
   "execution_count": 3,
   "metadata": {},
   "outputs": [
    {
     "data": {
      "text/plain": [
       "['g5 친구 끼리 추천 이벤트 저의 추천 코드 g5 cv74b 다',\n",
       " 'ㅅㅋㄱㅂ g5 기다 다',\n",
       " 'ㅎㄴㅁㄷ님 ㅅㅋs7기변좀 부탁 징징 잉이 요',\n",
       " '[g5 어제 네이버 지도 전화 어플 데이터통신 자꾸 진입 로딩 머무르 근데 오늘 g5 데이터통신 관련 소프트웨어 결함 기사 ㅋㅋㅋㅋ 근데 다르 어플 인터넷 데이터 어플 그리 오늘 다시 실행 허허 허',\n",
       " '지5 핑크 ㅋㅌㄱㅂ 어제 오전 주문넣었 저녁 해피콜받 오늘배송받았네 ㅎㅎ 부산 서울로 내주 엄청 빨리와 놀래 친구 코드 추천 g5 8m4ux 부탁 추천 해주시 본인 추천 댓글달아주 추천 요',\n",
       " 'g5 끼리 추천 제일 댓글 추천 코드 g5 b2d5w 추천 요',\n",
       " '근 일주일 좋다 조건 이정 였던거 갤7 스크 번이 징5번 g5 크트 기변 징4 아이폰6 크트 기변 ㅃㅃ ㅅㄴㅂ ㅅㄷㄹ ㄱㅂ 이야기 결과 어떠 요',\n",
       " '요즘 핸드폰 좋다 추천 해주 s7 vs g5 후기 요',\n",
       " 's7 vs g5 ㅋㅌㄱㅂ g5 사려 lte 결함있다 마음 걸리 교품 다니 귀찮다 ㅅㅋㅂㅇ s7 하 귀찮다 같긴 g5 가격 s7 ㅋ',\n",
       " 'g5 추천 끼리 g5 9p953 추천 첫번 댓글남기시는분꺼 저도 추천 요']"
      ]
     },
     "execution_count": 3,
     "metadata": {},
     "output_type": "execute_result"
    }
   ],
   "source": [
    "sentence = list(data[(data['product'] == 'g5')]['contents'])\n",
    "\n",
    "for i in range(len(sentence)):\n",
    "    sentence[i] = re.sub(r'\\s\\w\\s', ' ', sentence[i])\n",
    "    sentence[i] = re.sub(r'\\s\\w\\s', ' ', sentence[i])\n",
    "    sentence[i] = re.sub(r'\\s+', ' ', sentence[i])\n",
    "\n",
    "sentence[0:10]"
   ]
  },
  {
   "cell_type": "code",
   "execution_count": 4,
   "metadata": {},
   "outputs": [
    {
     "data": {
      "text/plain": [
       "[['g5', '친구', '끼리', '추천', '이벤트', '저의', '추천', '코드', 'g5', 'cv74b', '다'],\n",
       " ['ㅅㅋㄱㅂ', 'g5', '기다', '다'],\n",
       " ['ㅎㄴㅁㄷ님', 'ㅅㅋs7기변좀', '부탁', '징징', '잉이', '요']]"
      ]
     },
     "execution_count": 4,
     "metadata": {},
     "output_type": "execute_result"
    }
   ],
   "source": [
    "sen_lst = []\n",
    "\n",
    "for i in range(0, len(sentence)):\n",
    "    if type(sentence[i]) == float:\n",
    "        sentence[i] = \"nan\"\n",
    "        sen_list.append(list('nan'))\n",
    "        \n",
    "    else:\n",
    "        sen_lst.append(sentence[i].split(' '))\n",
    "        \n",
    "sen_lst[0:3]"
   ]
  },
  {
   "cell_type": "code",
   "execution_count": 5,
   "metadata": {},
   "outputs": [
    {
     "name": "stdout",
     "output_type": "stream",
     "text": [
      "113.34488959217435\n"
     ]
    }
   ],
   "source": [
    "length = 0\n",
    "\n",
    "for i in range(len(sentence)):\n",
    "    length += len(sentence[i])\n",
    "\n",
    "print(length/len(sentence))"
   ]
  },
  {
   "cell_type": "code",
   "execution_count": 6,
   "metadata": {
    "scrolled": true
   },
   "outputs": [],
   "source": [
    "model = Word2Vec(sen_lst, window=3, min_count=5)"
   ]
  },
  {
   "cell_type": "code",
   "execution_count": 7,
   "metadata": {},
   "outputs": [],
   "source": [
    "model.init_sims(replace=True)"
   ]
  },
  {
   "cell_type": "code",
   "execution_count": 8,
   "metadata": {
    "scrolled": false
   },
   "outputs": [
    {
     "data": {
      "text/plain": [
       "[('거치', 0.9986567497253418),\n",
       " ('도대', 0.9983729720115662),\n",
       " ('무시', 0.9983594417572021),\n",
       " ('마찬가지', 0.9980050921440125),\n",
       " ('잘쓰', 0.9979615807533264),\n",
       " ('안가', 0.997815728187561),\n",
       " ('피하', 0.9977009296417236),\n",
       " ('제로', 0.9976866245269775),\n",
       " ('교품받아', 0.997575044631958),\n",
       " ('기능상', 0.9975699782371521),\n",
       " ('소문', 0.9975676536560059),\n",
       " ('유리', 0.9974669814109802),\n",
       " ('멀리', 0.9974586367607117),\n",
       " ('넘기', 0.9971787929534912),\n",
       " ('조금씩', 0.9971727132797241),\n",
       " ('웬만', 0.9971621632575989),\n",
       " ('쓸', 0.997136116027832),\n",
       " ('있을거', 0.9971076250076294),\n",
       " ('뭔지', 0.9971009492874146),\n",
       " ('오류', 0.9970933198928833),\n",
       " ('녀석', 0.9970777630805969),\n",
       " ('고자', 0.9970248341560364),\n",
       " ('스트레스', 0.9970051646232605),\n",
       " ('생각나', 0.9969638586044312),\n",
       " ('마무리', 0.9969540238380432),\n",
       " ('고생', 0.9968408346176147),\n",
       " ('연속', 0.9968260526657104),\n",
       " ('나간', 0.99681556224823),\n",
       " ('의도', 0.996811032295227),\n",
       " ('불만족', 0.9967644214630127)]"
      ]
     },
     "execution_count": 8,
     "metadata": {},
     "output_type": "execute_result"
    }
   ],
   "source": [
    "da = ['좋', '힘들', '어둡', '잘되',  '나쁘', '거슬리', '즐겁', '안타깝',\n",
    "        '부럽', '안되', '빠르', '부드럽', '괜찮', '심하', '잘하', '편하',\n",
    "        '귀찮', '무겁', '어렵', '느리', '끌리', '오래가', '뜨겁', '비싸',\n",
    "        '예쁘', '신경쓰', '새롭', '늦', '이쁘', '싫', '아쉽', '가볍']\n",
    "hada = ['욕', '잘못', '망', '무난']\n",
    "noun = ['고장', '짜증']\n",
    "\n",
    "model.most_similar(\"짜증\", topn=30)"
   ]
  },
  {
   "cell_type": "code",
   "execution_count": 9,
   "metadata": {
    "collapsed": true
   },
   "outputs": [],
   "source": [
    "expressions = ['좋다', '힘들다', '어둡다', '잘되다',  '나쁘다', '거슬리다', '즐겁다', '안타깝다',\n",
    "               '부럽다', '안되다', '빠르다', '부드럽다', '괜찮다', '심하다', '잘하다', '편하다',\n",
    "               '귀찮다', '무겁다', '어렵다', '느리다', '끌리다', '오래가다', '뜨겁다', '비싸다',\n",
    "               '예쁘다', '신경쓰다', '새롭다', '늦다', '이쁘다', '싫다', '아쉽다', '가볍다',\n",
    "               '욕하다', '잘못하다', '망하다', '무난하다', '고장', '짜증']\n",
    "\n",
    "def extract_sim(expression):\n",
    "    df = pd.DataFrame(model.most_similar(expression, topn=30), columns=['word', 'similarity'])\n",
    "    df['expression'] = expression\n",
    "    return df"
   ]
  },
  {
   "cell_type": "code",
   "execution_count": 10,
   "metadata": {},
   "outputs": [
    {
     "data": {
      "text/html": [
       "<div>\n",
       "<table border=\"1\" class=\"dataframe\">\n",
       "  <thead>\n",
       "    <tr style=\"text-align: right;\">\n",
       "      <th></th>\n",
       "      <th>word</th>\n",
       "      <th>similarity</th>\n",
       "      <th>expression</th>\n",
       "    </tr>\n",
       "  </thead>\n",
       "  <tbody>\n",
       "    <tr>\n",
       "      <th>1135</th>\n",
       "      <td>고생</td>\n",
       "      <td>0.996841</td>\n",
       "      <td>짜증</td>\n",
       "    </tr>\n",
       "    <tr>\n",
       "      <th>1136</th>\n",
       "      <td>연속</td>\n",
       "      <td>0.996826</td>\n",
       "      <td>짜증</td>\n",
       "    </tr>\n",
       "    <tr>\n",
       "      <th>1137</th>\n",
       "      <td>나간</td>\n",
       "      <td>0.996816</td>\n",
       "      <td>짜증</td>\n",
       "    </tr>\n",
       "    <tr>\n",
       "      <th>1138</th>\n",
       "      <td>의도</td>\n",
       "      <td>0.996811</td>\n",
       "      <td>짜증</td>\n",
       "    </tr>\n",
       "    <tr>\n",
       "      <th>1139</th>\n",
       "      <td>불만족</td>\n",
       "      <td>0.996764</td>\n",
       "      <td>짜증</td>\n",
       "    </tr>\n",
       "  </tbody>\n",
       "</table>\n",
       "</div>"
      ],
      "text/plain": [
       "     word  similarity expression\n",
       "1135   고생    0.996841         짜증\n",
       "1136   연속    0.996826         짜증\n",
       "1137   나간    0.996816         짜증\n",
       "1138   의도    0.996811         짜증\n",
       "1139  불만족    0.996764         짜증"
      ]
     },
     "execution_count": 10,
     "metadata": {},
     "output_type": "execute_result"
    }
   ],
   "source": [
    "dfs = []\n",
    "\n",
    "for i in expressions:\n",
    "    df = extract_sim(i)\n",
    "    dfs.append(df)\n",
    "\n",
    "most_sims = pd.concat(dfs)\n",
    "most_sims.index = range(len(most_sims))\n",
    "\n",
    "most_sims.tail()"
   ]
  },
  {
   "cell_type": "code",
   "execution_count": 11,
   "metadata": {
    "collapsed": true
   },
   "outputs": [],
   "source": [
    "most_sims.to_csv('most_similarity.csv', sep='\\t', encoding='utf-8', index=False)"
   ]
  }
 ],
 "metadata": {
  "kernelspec": {
   "display_name": "Python [conda root]",
   "language": "python",
   "name": "conda-root-py"
  },
  "language_info": {
   "codemirror_mode": {
    "name": "ipython",
    "version": 3
   },
   "file_extension": ".py",
   "mimetype": "text/x-python",
   "name": "python",
   "nbconvert_exporter": "python",
   "pygments_lexer": "ipython3",
   "version": "3.5.3"
  }
 },
 "nbformat": 4,
 "nbformat_minor": 2
}
