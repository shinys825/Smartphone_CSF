{
 "cells": [
  {
   "cell_type": "code",
   "execution_count": 243,
   "metadata": {
    "scrolled": true
   },
   "outputs": [],
   "source": [
    "import os\n",
    "import re\n",
    "from gensim.models.word2vec import LineSentence\n",
    "from gensim.models.word2vec import Word2Vec\n",
    "\n",
    "work_dir = 'd:/works/project/Smartphone_CSF'\n",
    "os.chdir(work_dir)"
   ]
  },
  {
   "cell_type": "code",
   "execution_count": 9,
   "metadata": {
    "scrolled": false
   },
   "outputs": [
    {
     "data": {
      "text/html": [
       "<div>\n",
       "<table border=\"1\" class=\"dataframe\">\n",
       "  <thead>\n",
       "    <tr style=\"text-align: right;\">\n",
       "      <th></th>\n",
       "      <th>id</th>\n",
       "      <th>date</th>\n",
       "      <th>contents</th>\n",
       "      <th>product</th>\n",
       "      <th>ref</th>\n",
       "    </tr>\n",
       "  </thead>\n",
       "  <tbody>\n",
       "    <tr>\n",
       "      <th>36058</th>\n",
       "      <td>http://www.ilbe.com/index.php?mid=smartphone&amp;s...</td>\n",
       "      <td>160731</td>\n",
       "      <td>g3 에 s7엣지 갈아타 기기3년약정햇는데 약정 39만원뜸 씨1발이제 2년다써가는데...</td>\n",
       "      <td>s7</td>\n",
       "      <td>ilbe</td>\n",
       "    </tr>\n",
       "    <tr>\n",
       "      <th>36059</th>\n",
       "      <td>http://www.ilbe.com/index.php?mid=smartphone&amp;s...</td>\n",
       "      <td>160731</td>\n",
       "      <td>갓럭시s7 카메라 경쟁 실제 카메라 보여 일단 이정 갤럭시s7  가볍다  바르 런 ...</td>\n",
       "      <td>s7</td>\n",
       "      <td>ilbe</td>\n",
       "    </tr>\n",
       "    <tr>\n",
       "      <th>36060</th>\n",
       "      <td>http://www.ilbe.com/index.php?mid=smartphone&amp;s...</td>\n",
       "      <td>160731</td>\n",
       "      <td>s7 미개봉 vs 노트5 중고 굴 끄</td>\n",
       "      <td>s7</td>\n",
       "      <td>ilbe</td>\n",
       "    </tr>\n",
       "    <tr>\n",
       "      <th>36061</th>\n",
       "      <td>http://www.ilbe.com/index.php?mid=smartphone&amp;s...</td>\n",
       "      <td>160731</td>\n",
       "      <td>스마트폰 바꾸 전문가 나와 이기 산 s6 에 요금 요금 데이타 안심 짜리 쓰고있음s...</td>\n",
       "      <td>s7</td>\n",
       "      <td>ilbe</td>\n",
       "    </tr>\n",
       "    <tr>\n",
       "      <th>36062</th>\n",
       "      <td>http://www.ilbe.com/index.php?mid=smartphone&amp;s...</td>\n",
       "      <td>160731</td>\n",
       "      <td>어제 산 갤럭시 s7 에 배터리 준수 냐</td>\n",
       "      <td>s7</td>\n",
       "      <td>ilbe</td>\n",
       "    </tr>\n",
       "  </tbody>\n",
       "</table>\n",
       "</div>"
      ],
      "text/plain": [
       "                                                      id    date  \\\n",
       "36058  http://www.ilbe.com/index.php?mid=smartphone&s...  160731   \n",
       "36059  http://www.ilbe.com/index.php?mid=smartphone&s...  160731   \n",
       "36060  http://www.ilbe.com/index.php?mid=smartphone&s...  160731   \n",
       "36061  http://www.ilbe.com/index.php?mid=smartphone&s...  160731   \n",
       "36062  http://www.ilbe.com/index.php?mid=smartphone&s...  160731   \n",
       "\n",
       "                                                contents product   ref  \n",
       "36058  g3 에 s7엣지 갈아타 기기3년약정햇는데 약정 39만원뜸 씨1발이제 2년다써가는데...      s7  ilbe  \n",
       "36059  갓럭시s7 카메라 경쟁 실제 카메라 보여 일단 이정 갤럭시s7  가볍다  바르 런 ...      s7  ilbe  \n",
       "36060                               s7 미개봉 vs 노트5 중고 굴 끄      s7  ilbe  \n",
       "36061  스마트폰 바꾸 전문가 나와 이기 산 s6 에 요금 요금 데이타 안심 짜리 쓰고있음s...      s7  ilbe  \n",
       "36062                             어제 산 갤럭시 s7 에 배터리 준수 냐      s7  ilbe  "
      ]
     },
     "execution_count": 9,
     "metadata": {},
     "output_type": "execute_result"
    }
   ],
   "source": [
    "data = pd.read_csv('./dataframes/phone_fullframe(af_paraph).csv', sep='\\t', encoding='cp949')\n",
    "data.tail()"
   ]
  },
  {
   "cell_type": "code",
   "execution_count": 141,
   "metadata": {},
   "outputs": [
    {
     "data": {
      "text/plain": [
       "['g5 친구 끼리 추천 이벤트 저의 추천 코드 g5 cv74b 다',\n",
       " 'ㅅㅋㄱㅂ g5 기다 다',\n",
       " 'ㅎㄴㅁㄷ님 ㅅㅋs7기변좀 부탁 징징 잉이 요',\n",
       " '[g5 어제 네이버 지도 전화 어플 데이터통신 자꾸 진입 로딩 머무르 근데 오늘 g5 데이터통신 관련 소프트웨어 결함 기사 ㅋㅋㅋㅋ 근데 다르 어플 인터넷 데이터 어플 그리 오늘 다시 실행 허허 허',\n",
       " '지5 핑크 ㅋㅌㄱㅂ 어제 오전 주문넣었 저녁 해피콜받 오늘배송받았네 ㅎㅎ 부산 서울로 내주 엄청 빨리와 놀래 친구 코드 추천 g5 8m4ux 부탁 추천 해주시 본인 추천 댓글달아주 추천 요',\n",
       " 'g5 끼리 추천 제일 댓글 추천 코드 g5 b2d5w 추천 요',\n",
       " '근 일주일 좋다 조건 이정 였던거 갤7 스크 번이 징5번 g5 크트 기변 징4 아이폰6 크트 기변 ㅃㅃ ㅅㄴㅂ ㅅㄷㄹ ㄱㅂ 이야기 결과 어떠 요',\n",
       " '요즘 핸드폰 좋다 추천 해주 s7 vs g5 후기 요',\n",
       " 's7 vs g5 ㅋㅌㄱㅂ g5 사려 lte 결함있다 마음 걸리 교품 다니 귀찮다 ㅅㅋㅂㅇ s7 하 귀찮다 같긴 g5 가격 s7 ㅋ',\n",
       " 'g5 추천 끼리 g5 9p953 추천 첫번 댓글남기시는분꺼 저도 추천 요']"
      ]
     },
     "execution_count": 141,
     "metadata": {},
     "output_type": "execute_result"
    }
   ],
   "source": [
    "sentence = list(data[(data['product'] == 'g5')]['contents'])\n",
    "\n",
    "for i in range(len(sentence)):\n",
    "    sentence[i] = re.sub(r'\\s\\w\\s', ' ', sentence[i])\n",
    "    sentence[i] = re.sub(r'\\s\\w\\s', ' ', sentence[i])\n",
    "    sentence[i] = re.sub(r'\\s+', ' ', sentence[i])\n",
    "\n",
    "sentence[0:10]"
   ]
  },
  {
   "cell_type": "code",
   "execution_count": 142,
   "metadata": {},
   "outputs": [
    {
     "data": {
      "text/plain": [
       "[['g5', '친구', '끼리', '추천', '이벤트', '저의', '추천', '코드', 'g5', 'cv74b', '다'],\n",
       " ['ㅅㅋㄱㅂ', 'g5', '기다', '다'],\n",
       " ['ㅎㄴㅁㄷ님', 'ㅅㅋs7기변좀', '부탁', '징징', '잉이', '요']]"
      ]
     },
     "execution_count": 142,
     "metadata": {},
     "output_type": "execute_result"
    }
   ],
   "source": [
    "sen_lst = []\n",
    "\n",
    "for i in range(0, len(sentence)):\n",
    "    if type(sentence[i]) == float:\n",
    "        sentence[i] = \"nan\"\n",
    "        sen_list.append(list('nan'))\n",
    "        \n",
    "    else:\n",
    "        sen_lst.append(sentence[i].split(' '))\n",
    "        \n",
    "sen_lst[0:3]"
   ]
  },
  {
   "cell_type": "code",
   "execution_count": 173,
   "metadata": {},
   "outputs": [
    {
     "name": "stdout",
     "output_type": "stream",
     "text": [
      "113.34488959217435\n"
     ]
    }
   ],
   "source": [
    "length = 0\n",
    "\n",
    "for i in range(len(sentence)):\n",
    "    length += len(sentence[i])\n",
    "\n",
    "print(length/len(sentence))"
   ]
  },
  {
   "cell_type": "code",
   "execution_count": 186,
   "metadata": {
    "collapsed": true,
    "scrolled": true
   },
   "outputs": [],
   "source": [
    "model = Word2Vec(sen_lst, window=3, min_count=5)"
   ]
  },
  {
   "cell_type": "code",
   "execution_count": 187,
   "metadata": {
    "collapsed": true
   },
   "outputs": [],
   "source": [
    "model.init_sims(replace=True)"
   ]
  },
  {
   "cell_type": "code",
   "execution_count": 216,
   "metadata": {
    "scrolled": false
   },
   "outputs": [
    {
     "data": {
      "text/plain": [
       "[('많다', 0.99851393699646),\n",
       " ('스트레스', 0.9979513883590698),\n",
       " ('넘기', 0.9978256225585938),\n",
       " ('전에', 0.9976630210876465),\n",
       " ('종종', 0.9974784851074219),\n",
       " ('제것', 0.9974228143692017),\n",
       " ('벽돌', 0.9973599910736084),\n",
       " ('먹통', 0.9973112940788269),\n",
       " ('분도', 0.9972741603851318),\n",
       " ('기능상', 0.997183084487915),\n",
       " ('알고', 0.9971176385879517),\n",
       " ('하기', 0.9970927238464355),\n",
       " ('거치', 0.9970272779464722),\n",
       " ('당황', 0.9970059394836426),\n",
       " ('쓸', 0.9969030618667603),\n",
       " ('차후', 0.9968608617782593),\n",
       " ('무시', 0.9968405961990356),\n",
       " ('일어', 0.9968148469924927),\n",
       " ('수리비', 0.9967447519302368),\n",
       " ('이참', 0.9967052340507507),\n",
       " ('아닌거', 0.996658444404602),\n",
       " ('쓰', 0.9966521263122559),\n",
       " ('난감', 0.9966169595718384),\n",
       " ('멘붕', 0.9965701103210449),\n",
       " ('안가', 0.9965498447418213),\n",
       " ('실수', 0.9965246915817261),\n",
       " ('조금씩', 0.9965141415596008),\n",
       " ('사유', 0.9964713454246521),\n",
       " ('용인', 0.9964355230331421),\n",
       " ('고치', 0.9964162111282349)]"
      ]
     },
     "execution_count": 216,
     "metadata": {},
     "output_type": "execute_result"
    }
   ],
   "source": [
    "da = ['좋', '힘들', '어둡', '잘되',  '나쁘', '거슬리', '즐겁', '안타깝',\n",
    "        '부럽', '안되', '빠르', '부드럽', '괜찮', '심하', '잘하', '편하',\n",
    "        '귀찮', '무겁', '어렵', '느리', '끌리', '오래가', '뜨겁', '비싸',\n",
    "        '예쁘', '신경쓰', '새롭', '늦', '이쁘', '싫', '아쉽', '가볍']\n",
    "hada = ['욕', '잘못', '망', '무난']\n",
    "noun = ['고장', '짜증']\n",
    "\n",
    "model.most_similar(\"짜증\", topn=30)"
   ]
  },
  {
   "cell_type": "code",
   "execution_count": 217,
   "metadata": {
    "collapsed": true
   },
   "outputs": [],
   "source": [
    "expressions = ['좋다', '힘들다', '어둡다', '잘되다',  '나쁘다', '거슬리다', '즐겁다', '안타깝다',\n",
    "               '부럽다', '안되다', '빠르다', '부드럽다', '괜찮다', '심하다', '잘하다', '편하다',\n",
    "               '귀찮다', '무겁다', '어렵다', '느리다', '끌리다', '오래가다', '뜨겁다', '비싸다',\n",
    "               '예쁘다', '신경쓰다', '새롭다', '늦다', '이쁘다', '싫다', '아쉽다', '가볍다',\n",
    "               '욕하다', '잘못하다', '망하다', '무난하다', '고장', '짜증']\n",
    "\n",
    "def extract_sim(expression):\n",
    "    df = pd.DataFrame(model.most_similar(expression, topn=30), columns=['word', 'similarity'])\n",
    "    df['expression'] = expression\n",
    "    return df"
   ]
  },
  {
   "cell_type": "code",
   "execution_count": 241,
   "metadata": {},
   "outputs": [
    {
     "data": {
      "text/html": [
       "<div>\n",
       "<table border=\"1\" class=\"dataframe\">\n",
       "  <thead>\n",
       "    <tr style=\"text-align: right;\">\n",
       "      <th></th>\n",
       "      <th>word</th>\n",
       "      <th>similarity</th>\n",
       "      <th>expression</th>\n",
       "    </tr>\n",
       "  </thead>\n",
       "  <tbody>\n",
       "    <tr>\n",
       "      <th>1135</th>\n",
       "      <td>실수</td>\n",
       "      <td>0.996525</td>\n",
       "      <td>짜증</td>\n",
       "    </tr>\n",
       "    <tr>\n",
       "      <th>1136</th>\n",
       "      <td>조금씩</td>\n",
       "      <td>0.996514</td>\n",
       "      <td>짜증</td>\n",
       "    </tr>\n",
       "    <tr>\n",
       "      <th>1137</th>\n",
       "      <td>사유</td>\n",
       "      <td>0.996471</td>\n",
       "      <td>짜증</td>\n",
       "    </tr>\n",
       "    <tr>\n",
       "      <th>1138</th>\n",
       "      <td>용인</td>\n",
       "      <td>0.996436</td>\n",
       "      <td>짜증</td>\n",
       "    </tr>\n",
       "    <tr>\n",
       "      <th>1139</th>\n",
       "      <td>고치</td>\n",
       "      <td>0.996416</td>\n",
       "      <td>짜증</td>\n",
       "    </tr>\n",
       "  </tbody>\n",
       "</table>\n",
       "</div>"
      ],
      "text/plain": [
       "     word  similarity expression\n",
       "1135   실수    0.996525         짜증\n",
       "1136  조금씩    0.996514         짜증\n",
       "1137   사유    0.996471         짜증\n",
       "1138   용인    0.996436         짜증\n",
       "1139   고치    0.996416         짜증"
      ]
     },
     "execution_count": 241,
     "metadata": {},
     "output_type": "execute_result"
    }
   ],
   "source": [
    "dfs = []\n",
    "\n",
    "for i in expressions:\n",
    "    df = extract_sim(i)\n",
    "    dfs.append(df)\n",
    "\n",
    "most_sims = pd.concat(dfs)\n",
    "most_sims.index = range(len(most_sims))\n",
    "\n",
    "most_sims.tail()"
   ]
  },
  {
   "cell_type": "code",
   "execution_count": 247,
   "metadata": {},
   "outputs": [],
   "source": [
    "most_sims.to_csv('most_similarity.csv', sep='\\t', encoding='utf8', index=False)"
   ]
  }
 ],
 "metadata": {
  "kernelspec": {
   "display_name": "Python [conda root]",
   "language": "python",
   "name": "conda-root-py"
  },
  "language_info": {
   "codemirror_mode": {
    "name": "ipython",
    "version": 3
   },
   "file_extension": ".py",
   "mimetype": "text/x-python",
   "name": "python",
   "nbconvert_exporter": "python",
   "pygments_lexer": "ipython3",
   "version": "3.5.2"
  }
 },
 "nbformat": 4,
 "nbformat_minor": 2
}
