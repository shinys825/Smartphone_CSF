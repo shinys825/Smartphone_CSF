{
 "cells": [
  {
   "cell_type": "code",
   "execution_count": 1,
   "metadata": {
    "scrolled": false
   },
   "outputs": [
    {
     "data": {
      "text/html": [
       "<div>\n",
       "<table border=\"1\" class=\"dataframe\">\n",
       "  <thead>\n",
       "    <tr style=\"text-align: right;\">\n",
       "      <th></th>\n",
       "      <th>id</th>\n",
       "      <th>date</th>\n",
       "      <th>product</th>\n",
       "      <th>ref</th>\n",
       "      <th>contents</th>\n",
       "    </tr>\n",
       "  </thead>\n",
       "  <tbody>\n",
       "    <tr>\n",
       "      <th>23750</th>\n",
       "      <td>http://www.ppomppu.co.kr/zboard/view.php?id=ph...</td>\n",
       "      <td>170401</td>\n",
       "      <td>g6</td>\n",
       "      <td>ppomppu</td>\n",
       "      <td>G6 약 그라데이션+붉은액정 a/s 후기  섭센터 가서 보여주니 기사 본인은 비슷해...</td>\n",
       "    </tr>\n",
       "    <tr>\n",
       "      <th>23751</th>\n",
       "      <td>http://www.ppomppu.co.kr/zboard/view.php?id=ph...</td>\n",
       "      <td>170401</td>\n",
       "      <td>g6</td>\n",
       "      <td>ppomppu</td>\n",
       "      <td>목요일 개통한 G6 배터리 상태가 이상한거 같습니다.  ? ? 제가 개통한건 아니고...</td>\n",
       "    </tr>\n",
       "    <tr>\n",
       "      <th>23752</th>\n",
       "      <td>http://www.ppomppu.co.kr/zboard/view.php?id=ph...</td>\n",
       "      <td>170401</td>\n",
       "      <td>g6</td>\n",
       "      <td>ppomppu</td>\n",
       "      <td>S8과 G6 사은품 팔려고생각하면 G6가 더 낫네요.  S8 - 레벨박스 스피커 +...</td>\n",
       "    </tr>\n",
       "    <tr>\n",
       "      <th>23753</th>\n",
       "      <td>http://www.ppomppu.co.kr/zboard/view.php?id=ph...</td>\n",
       "      <td>170401</td>\n",
       "      <td>g6</td>\n",
       "      <td>ppomppu</td>\n",
       "      <td>g6 홈 터치 버튼 좀 알려주세여 ㅠㅠ  추가하려고 설정에 가봐도 세줄짜리 메뉴버튼...</td>\n",
       "    </tr>\n",
       "    <tr>\n",
       "      <th>23754</th>\n",
       "      <td>http://www.ppomppu.co.kr/zboard/view.php?id=ph...</td>\n",
       "      <td>170401</td>\n",
       "      <td>g6</td>\n",
       "      <td>ppomppu</td>\n",
       "      <td>G6 미라캐스트(미러링) 되는지요?  미라캐스트 가능한지요? 삼성은 미러링 엘지는 ...</td>\n",
       "    </tr>\n",
       "  </tbody>\n",
       "</table>\n",
       "</div>"
      ],
      "text/plain": [
       "                                                      id    date product  \\\n",
       "23750  http://www.ppomppu.co.kr/zboard/view.php?id=ph...  170401      g6   \n",
       "23751  http://www.ppomppu.co.kr/zboard/view.php?id=ph...  170401      g6   \n",
       "23752  http://www.ppomppu.co.kr/zboard/view.php?id=ph...  170401      g6   \n",
       "23753  http://www.ppomppu.co.kr/zboard/view.php?id=ph...  170401      g6   \n",
       "23754  http://www.ppomppu.co.kr/zboard/view.php?id=ph...  170401      g6   \n",
       "\n",
       "           ref                                           contents  \n",
       "23750  ppomppu  G6 약 그라데이션+붉은액정 a/s 후기  섭센터 가서 보여주니 기사 본인은 비슷해...  \n",
       "23751  ppomppu  목요일 개통한 G6 배터리 상태가 이상한거 같습니다.  ? ? 제가 개통한건 아니고...  \n",
       "23752  ppomppu  S8과 G6 사은품 팔려고생각하면 G6가 더 낫네요.  S8 - 레벨박스 스피커 +...  \n",
       "23753  ppomppu  g6 홈 터치 버튼 좀 알려주세여 ㅠㅠ  추가하려고 설정에 가봐도 세줄짜리 메뉴버튼...  \n",
       "23754  ppomppu  G6 미라캐스트(미러링) 되는지요?  미라캐스트 가능한지요? 삼성은 미러링 엘지는 ...  "
      ]
     },
     "execution_count": 1,
     "metadata": {},
     "output_type": "execute_result"
    }
   ],
   "source": [
    "import re\n",
    "import csv\n",
    "import pandas as pd\n",
    "import numpy as np\n",
    "import os\n",
    "from sklearn.feature_extraction.text import CountVectorizer\n",
    "\n",
    "work_dir = 'D:/document/project/phone_csf'\n",
    "os.chdir(work_dir)\n",
    "\n",
    "para_df = pd.read_csv('dataframes/phone_fullframe(title_only).csv', encoding='cp949')\n",
    "para_df.tail()"
   ]
  },
  {
   "cell_type": "markdown",
   "metadata": {},
   "source": [
    "### Paraphrasing"
   ]
  },
  {
   "cell_type": "code",
   "execution_count": 10,
   "metadata": {
    "collapsed": true
   },
   "outputs": [],
   "source": [
    "da = ['좋', '힘들', '어둡', '잘되',  '나쁘', '거슬리', '즐겁', '안타깝',\n",
    "        '부럽', '안되', '빠르', '부드럽', '괜찮', '심하', '잘하', '편하',\n",
    "        '귀찮', '무겁', '어렵', '느리', '끌리', '오래가', '뜨겁', '비싸',\n",
    "        '예쁘', '신경쓰', '새롭', '늦', '이쁘', '싫', '아쉽', '가볍']\n",
    "hada = ['욕', '잘못', '망', '무난']\n",
    "noun = ['고장', '짜증']\n",
    "\n",
    "para_dict = {'para_da': da, 'para_hada': hada, 'to_noun': noun}\n",
    "\n",
    "def paralst_create(*args):\n",
    "    para_lst = []\n",
    "    for lst in args:\n",
    "        for i in lst:\n",
    "            para_lst.append(i)\n",
    "    return para_lst\n",
    "\n",
    "para_lst = paralst_create(da, hada, noun)"
   ]
  },
  {
   "cell_type": "code",
   "execution_count": 26,
   "metadata": {},
   "outputs": [
    {
     "data": {
      "text/plain": [
       "'ㅅㅋㄱㅂ g5 안뜨 기다립니'"
      ]
     },
     "execution_count": 26,
     "metadata": {},
     "output_type": "execute_result"
    }
   ],
   "source": [
    "para_df['contents'][1]"
   ]
  },
  {
   "cell_type": "code",
   "execution_count": null,
   "metadata": {
    "collapsed": true
   },
   "outputs": [],
   "source": [
    "for i in range(0, len(para_df)):\n",
    "    for word in para_lst:\n",
    "        para = re.compile(r'{}\\w*'.format(word))\n",
    "\n",
    "        if word in para_dict['para_da']:\n",
    "            para_df['contents'][i] = para.sub(' {}다 '.format(word), para_df['contents'][i])\n",
    "\n",
    "        elif word in para_dict['para_hada']:\n",
    "            para_df['contents'][i] = para.sub(' {}하다 '.format(word), para_df['contents'][i])\n",
    "\n",
    "        elif word in para_dict['to_noun']:\n",
    "            para_df['contents'][i] = para.sub(' {} '.format(word), para_df['contents'][i])\n",
    "    print(i/len(para_df) * 100, '% completed')"
   ]
  }
 ],
 "metadata": {
  "kernelspec": {
   "display_name": "Python [conda root]",
   "language": "python",
   "name": "conda-root-py"
  },
  "language_info": {
   "codemirror_mode": {
    "name": "ipython",
    "version": 3
   },
   "file_extension": ".py",
   "mimetype": "text/x-python",
   "name": "python",
   "nbconvert_exporter": "python",
   "pygments_lexer": "ipython3",
   "version": "3.5.3"
  }
 },
 "nbformat": 4,
 "nbformat_minor": 2
}
